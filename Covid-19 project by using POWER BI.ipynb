{
 "cells": [
  {
   "cell_type": "markdown",
   "id": "a41b2840-a40c-433e-84ec-e5eefc48d675",
   "metadata": {},
   "source": [
    "####Accessing Data in Jupyter Notebook"
   ]
  },
  {
   "cell_type": "markdown",
   "id": "b65f3d53-2e37-4c66-9769-0bbe9cd30a95",
   "metadata": {},
   "source": [
    "# Covid-19 data analysis and visualization by using POwer BI tools."
   ]
  },
  {
   "cell_type": "markdown",
   "id": "f5643582-bc58-4c0e-8ce0-b70d3d332fde",
   "metadata": {},
   "source": [
    "## 1. Calculate and interpret basic statistics such as mean, median, mode, standard deviation, and range to summarize the data.\n"
   ]
  },
  {
   "cell_type": "markdown",
   "id": "68c07b33-ed48-4a6e-b3df-7d1e4b788e9c",
   "metadata": {},
   "source": [
    "- Mean_ConfirmedCases = AVERAGE('country_wise_latest'[Confirmed])\n",
    "- Median_ConfirmedCases = MEDIAN('country_wise_latest'[Confirmed])\n",
    "- Mode_ConfirmedCases = \n",
    "CALCULATE(MAXX(TOPN(1, SUMMARIZE('country_wise_latest', 'country_wise_latest'[Confirmed], \"Count\", COUNT('country_wise_latest'[Confirmed])), [Count], DESC), 'country_wise_latest'[Confirmed]))\n",
    "- StdDev_ConfirmedCases = STDEV.P('country_wise_latest'[Confirmed])\n",
    "- Range_ConfirmedCases = MAX('country_wise_latest'[Confirmed]) - MIN('country_wise_latest'[Confirmed])\n",
    "\n",
    "\n",
    "\n",
    "\n"
   ]
  },
  {
   "cell_type": "markdown",
   "id": "ad34d4ad-b607-49ca-8219-96cee7718ee9",
   "metadata": {},
   "source": [
    "# 2. Identify and analyze correlations between different variables to understand their relationships."
   ]
  },
  {
   "cell_type": "markdown",
   "id": "bca6b7bb-52a8-4356-ade6-fc751486b596",
   "metadata": {},
   "source": [
    "Correlation_Confirmed_Deaths = \n",
    "    DIVIDE(\n",
    "        SUMX(\n",
    "            'country_wise_latest',\n",
    "            ('country_wise_latest'[Confirmed] - AVERAGE('country_wise_latest'[Confirmed])) * \n",
    "            ('country_wise_latest'[Deaths] - AVERAGE('country_wise_latest'[Deaths]))\n",
    "        ),\n",
    "        (STDEV.P('country_wise_latest'[Confirmed]) * STDEV.P('country_wise_latest'[Deaths]))\n",
    "    )"
   ]
  },
  {
   "cell_type": "markdown",
   "id": "9a42c2c7-9941-438f-b45d-1425042a5a05",
   "metadata": {},
   "source": [
    "Correlation__Active_New cases = \n",
    "    DIVIDE(\n",
    "        SUMX(\n",
    "            'country_wise_latest',\n",
    "            ('country_wise_latest'[Active] - AVERAGE('country_wise_latest'[Active])) * \n",
    "            ('country_wise_latest'[New cases] - AVERAGE('country_wise_latest'[New cases]))\n",
    "        ),\n",
    "        (STDEV.P('country_wise_latest'[Active]) * STDEV.P('country_wise_latest'[New cases]))\n",
    "    )"
   ]
  },
  {
   "cell_type": "code",
   "execution_count": null,
   "id": "6d960519-118a-494f-adaf-2d255aa19f6a",
   "metadata": {},
   "outputs": [],
   "source": [
    "Correlation__Active_New cases = \n",
    "    DIVIDE(\n",
    "        SUMX(\n",
    "            'country_wise_latest',\n",
    "            ('country_wise_latest'[Active] - AVERAGE('country_wise_latest'[Active])) * \n",
    "            ('country_wise_latest'[New cases] - AVERAGE('country_wise_latest'[New cases]))\n",
    "        ),\n",
    "        (STDEV.P('country_wise_latest'[Active]) * STDEV.P('country_wise_latest'[New cases]))\n",
    "    )"
   ]
  },
  {
   "cell_type": "markdown",
   "id": "eb0dc3d8-9d5d-491e-889b-acd18c34e898",
   "metadata": {},
   "source": [
    "# 3. Create various plots and charts (e.g., histograms, bar charts, line graphs) to visualize the data distribution and trends."
   ]
  },
  {
   "cell_type": "markdown",
   "id": "e329ffe2-213e-46a5-8eb5-137cde95fbd6",
   "metadata": {},
   "source": [
    "I have a created the scatter plot of Sum of death by confirmed in the dashboard."
   ]
  },
  {
   "cell_type": "markdown",
   "id": "e3a8a838-a426-4bab-9208-f1446c8c1166",
   "metadata": {},
   "source": [
    "# Document key insights and patterns discovered during the EDA process, forming the basis for the dashboard creation"
   ]
  },
  {
   "cell_type": "markdown",
   "id": "54455ceb-a295-4a4c-a9d2-9ce31cd338e5",
   "metadata": {},
   "source": [
    "- Mean and median show that most countries have moderate case numbers, but there's a wide range, indicating variability.\n",
    "- High standard deviation suggests significant differences in COVID-19 impact across countries.\n",
    "- Strong positive correlation between confirmed cases and deaths indicates higher cases lead to more deaths.\n",
    "- New cases and active cases are positively correlated, showing recent surges increase active cases.\n",
    "- Line graph shows an upward trend in confirmed cases and deaths, highlighting the ongoing severity of the pandemic.\n",
    "- Countries with high confirmed cases also have high death tolls, showing the pressure on healthcare systems.\n",
    "- Bar chart of correlations shows the strongest relationship between confirmed cases and deaths, making it a key metric to monitor."
   ]
  },
  {
   "cell_type": "code",
   "execution_count": null,
   "id": "72ae6049-bd05-4b54-a71c-25a2775206f7",
   "metadata": {},
   "outputs": [],
   "source": []
  }
 ],
 "metadata": {
  "kernelspec": {
   "display_name": "Python 3 (ipykernel)",
   "language": "python",
   "name": "python3"
  },
  "language_info": {
   "codemirror_mode": {
    "name": "ipython",
    "version": 3
   },
   "file_extension": ".py",
   "mimetype": "text/x-python",
   "name": "python",
   "nbconvert_exporter": "python",
   "pygments_lexer": "ipython3",
   "version": "3.12.4"
  }
 },
 "nbformat": 4,
 "nbformat_minor": 5
}
